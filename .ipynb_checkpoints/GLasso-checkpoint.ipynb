{
 "cells": [
  {
   "cell_type": "markdown",
   "metadata": {},
   "source": [
    "# Introduction\n",
    "\n",
    "This notebook is about using the GLasso algorithm\n",
    "\n",
    "I will use the scikit learn version of it, with automated cross validation."
   ]
  },
  {
   "cell_type": "code",
   "execution_count": 1,
   "metadata": {
    "collapsed": true
   },
   "outputs": [],
   "source": [
    "import pandas as pd\n",
    "from sklearn.covariance import GraphLasso,GraphLassoCV,EmpiricalCovariance\n",
    "import numpy as np\n",
    "from numpy.linalg import inv\n",
    "%matplotlib inline"
   ]
  },
  {
   "cell_type": "code",
   "execution_count": 2,
   "metadata": {
    "collapsed": false
   },
   "outputs": [],
   "source": [
    "df_mc=pd.read_csv(\"data/X_test.csv\",header=None)"
   ]
  },
  {
   "cell_type": "code",
   "execution_count": 3,
   "metadata": {
    "collapsed": false
   },
   "outputs": [
    {
     "data": {
      "text/html": [
       "<div>\n",
       "<table border=\"1\" class=\"dataframe\">\n",
       "  <thead>\n",
       "    <tr style=\"text-align: right;\">\n",
       "      <th></th>\n",
       "      <th>0</th>\n",
       "      <th>1</th>\n",
       "      <th>2</th>\n",
       "      <th>3</th>\n",
       "    </tr>\n",
       "  </thead>\n",
       "  <tbody>\n",
       "    <tr>\n",
       "      <th>0</th>\n",
       "      <td>-0.199058</td>\n",
       "      <td>0.155569</td>\n",
       "      <td>-0.067543</td>\n",
       "      <td>1.434591</td>\n",
       "    </tr>\n",
       "    <tr>\n",
       "      <th>1</th>\n",
       "      <td>0.309032</td>\n",
       "      <td>-0.046133</td>\n",
       "      <td>-1.785380</td>\n",
       "      <td>0.681475</td>\n",
       "    </tr>\n",
       "    <tr>\n",
       "      <th>2</th>\n",
       "      <td>0.097170</td>\n",
       "      <td>-0.376027</td>\n",
       "      <td>0.327607</td>\n",
       "      <td>-0.814160</td>\n",
       "    </tr>\n",
       "    <tr>\n",
       "      <th>3</th>\n",
       "      <td>-1.237077</td>\n",
       "      <td>-1.328336</td>\n",
       "      <td>1.955127</td>\n",
       "      <td>-1.544141</td>\n",
       "    </tr>\n",
       "    <tr>\n",
       "      <th>4</th>\n",
       "      <td>1.161363</td>\n",
       "      <td>1.067888</td>\n",
       "      <td>0.022330</td>\n",
       "      <td>0.603614</td>\n",
       "    </tr>\n",
       "  </tbody>\n",
       "</table>\n",
       "</div>"
      ],
      "text/plain": [
       "          0         1         2         3\n",
       "0 -0.199058  0.155569 -0.067543  1.434591\n",
       "1  0.309032 -0.046133 -1.785380  0.681475\n",
       "2  0.097170 -0.376027  0.327607 -0.814160\n",
       "3 -1.237077 -1.328336  1.955127 -1.544141\n",
       "4  1.161363  1.067888  0.022330  0.603614"
      ]
     },
     "execution_count": 3,
     "metadata": {},
     "output_type": "execute_result"
    }
   ],
   "source": [
    "df_mc.head()"
   ]
  },
  {
   "cell_type": "code",
   "execution_count": 4,
   "metadata": {
    "collapsed": false
   },
   "outputs": [
    {
     "data": {
      "text/html": [
       "<div>\n",
       "<table border=\"1\" class=\"dataframe\">\n",
       "  <thead>\n",
       "    <tr style=\"text-align: right;\">\n",
       "      <th></th>\n",
       "      <th>0</th>\n",
       "      <th>1</th>\n",
       "      <th>2</th>\n",
       "      <th>3</th>\n",
       "    </tr>\n",
       "  </thead>\n",
       "  <tbody>\n",
       "    <tr>\n",
       "      <th>count</th>\n",
       "      <td>1.000000e+03</td>\n",
       "      <td>1.000000e+03</td>\n",
       "      <td>1.000000e+03</td>\n",
       "      <td>1.000000e+03</td>\n",
       "    </tr>\n",
       "    <tr>\n",
       "      <th>mean</th>\n",
       "      <td>-1.643130e-17</td>\n",
       "      <td>-5.984102e-17</td>\n",
       "      <td>1.144917e-16</td>\n",
       "      <td>1.104672e-17</td>\n",
       "    </tr>\n",
       "    <tr>\n",
       "      <th>std</th>\n",
       "      <td>1.000500e+00</td>\n",
       "      <td>1.000500e+00</td>\n",
       "      <td>1.000500e+00</td>\n",
       "      <td>1.000500e+00</td>\n",
       "    </tr>\n",
       "    <tr>\n",
       "      <th>min</th>\n",
       "      <td>-2.991931e+00</td>\n",
       "      <td>-3.013649e+00</td>\n",
       "      <td>-3.469819e+00</td>\n",
       "      <td>-3.652721e+00</td>\n",
       "    </tr>\n",
       "    <tr>\n",
       "      <th>25%</th>\n",
       "      <td>-7.167359e-01</td>\n",
       "      <td>-7.111839e-01</td>\n",
       "      <td>-6.850007e-01</td>\n",
       "      <td>-6.896844e-01</td>\n",
       "    </tr>\n",
       "    <tr>\n",
       "      <th>50%</th>\n",
       "      <td>3.082600e-02</td>\n",
       "      <td>-4.174440e-03</td>\n",
       "      <td>-4.400892e-03</td>\n",
       "      <td>-1.310217e-02</td>\n",
       "    </tr>\n",
       "    <tr>\n",
       "      <th>75%</th>\n",
       "      <td>7.093195e-01</td>\n",
       "      <td>6.905593e-01</td>\n",
       "      <td>6.593350e-01</td>\n",
       "      <td>6.756227e-01</td>\n",
       "    </tr>\n",
       "    <tr>\n",
       "      <th>max</th>\n",
       "      <td>3.198116e+00</td>\n",
       "      <td>3.164379e+00</td>\n",
       "      <td>2.749569e+00</td>\n",
       "      <td>3.101828e+00</td>\n",
       "    </tr>\n",
       "  </tbody>\n",
       "</table>\n",
       "</div>"
      ],
      "text/plain": [
       "                  0             1             2             3\n",
       "count  1.000000e+03  1.000000e+03  1.000000e+03  1.000000e+03\n",
       "mean  -1.643130e-17 -5.984102e-17  1.144917e-16  1.104672e-17\n",
       "std    1.000500e+00  1.000500e+00  1.000500e+00  1.000500e+00\n",
       "min   -2.991931e+00 -3.013649e+00 -3.469819e+00 -3.652721e+00\n",
       "25%   -7.167359e-01 -7.111839e-01 -6.850007e-01 -6.896844e-01\n",
       "50%    3.082600e-02 -4.174440e-03 -4.400892e-03 -1.310217e-02\n",
       "75%    7.093195e-01  6.905593e-01  6.593350e-01  6.756227e-01\n",
       "max    3.198116e+00  3.164379e+00  2.749569e+00  3.101828e+00"
      ]
     },
     "execution_count": 4,
     "metadata": {},
     "output_type": "execute_result"
    }
   ],
   "source": [
    "df_mc.describe()"
   ]
  },
  {
   "cell_type": "markdown",
   "metadata": {},
   "source": [
    "Now let's fit a cross validated graph lasso estimator"
   ]
  },
  {
   "cell_type": "code",
   "execution_count": 11,
   "metadata": {
    "collapsed": false
   },
   "outputs": [
    {
     "data": {
      "text/plain": [
       "GraphLassoCV(alphas=4, assume_centered=False, cv=None, enet_tol=0.0001,\n",
       "       max_iter=100, mode='cd', n_jobs=1, n_refinements=4, tol=0.0001,\n",
       "       verbose=False)"
      ]
     },
     "execution_count": 11,
     "metadata": {},
     "output_type": "execute_result"
    }
   ],
   "source": [
    "glasso=GraphLassoCV()\n",
    "glasso.fit(df_mc)"
   ]
  },
  {
   "cell_type": "code",
   "execution_count": 12,
   "metadata": {
    "collapsed": false
   },
   "outputs": [
    {
     "data": {
      "text/plain": [
       "array([[ 1.        ,  0.82703486, -0.441698  ,  0.38985575],\n",
       "       [ 0.82703486,  1.        , -0.5340743 ,  0.47138974],\n",
       "       [-0.441698  , -0.5340743 ,  1.        , -0.23098084],\n",
       "       [ 0.38985575,  0.47138974, -0.23098084,  1.        ]])"
      ]
     },
     "execution_count": 12,
     "metadata": {},
     "output_type": "execute_result"
    }
   ],
   "source": [
    "glasso.covariance_"
   ]
  },
  {
   "cell_type": "code",
   "execution_count": 13,
   "metadata": {
    "collapsed": false
   },
   "outputs": [
    {
     "data": {
      "text/plain": [
       "-4.7938536946241177"
      ]
     },
     "execution_count": 13,
     "metadata": {},
     "output_type": "execute_result"
    }
   ],
   "source": [
    "glasso.score(df_mc)"
   ]
  },
  {
   "cell_type": "markdown",
   "metadata": {},
   "source": [
    "Let's compare this to the empirical estimate"
   ]
  },
  {
   "cell_type": "code",
   "execution_count": 14,
   "metadata": {
    "collapsed": false
   },
   "outputs": [
    {
     "data": {
      "text/plain": [
       "EmpiricalCovariance(assume_centered=False, store_precision=True)"
      ]
     },
     "execution_count": 14,
     "metadata": {},
     "output_type": "execute_result"
    }
   ],
   "source": [
    "empir=EmpiricalCovariance()\n",
    "empir.fit(df_mc)"
   ]
  },
  {
   "cell_type": "code",
   "execution_count": 15,
   "metadata": {
    "collapsed": false
   },
   "outputs": [
    {
     "data": {
      "text/plain": [
       "array([[ 1.        ,  0.82999523, -0.4436062 ,  0.38911997],\n",
       "       [ 0.82999523,  1.        , -0.5370343 ,  0.47434828],\n",
       "       [-0.4436062 , -0.5370343 ,  1.        , -0.22802231],\n",
       "       [ 0.38911997,  0.47434828, -0.22802231,  1.        ]])"
      ]
     },
     "execution_count": 15,
     "metadata": {},
     "output_type": "execute_result"
    }
   ],
   "source": [
    "empir.covariance_"
   ]
  },
  {
   "cell_type": "code",
   "execution_count": 16,
   "metadata": {
    "collapsed": false
   },
   "outputs": [
    {
     "data": {
      "text/plain": [
       "-4.7936693172926006"
      ]
     },
     "execution_count": 16,
     "metadata": {},
     "output_type": "execute_result"
    }
   ],
   "source": [
    "empir.score(df_mc)"
   ]
  }
 ],
 "metadata": {
  "anaconda-cloud": {},
  "kernelspec": {
   "display_name": "Python [py3k]",
   "language": "python",
   "name": "Python [py3k]"
  },
  "language_info": {
   "codemirror_mode": {
    "name": "ipython",
    "version": 3
   },
   "file_extension": ".py",
   "mimetype": "text/x-python",
   "name": "python",
   "nbconvert_exporter": "python",
   "pygments_lexer": "ipython3",
   "version": "3.5.2"
  }
 },
 "nbformat": 4,
 "nbformat_minor": 0
}
